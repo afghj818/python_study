{
 "cells": [
  {
   "cell_type": "markdown",
   "metadata": {},
   "source": [
    "# 第七次课作业"
   ]
  },
  {
   "cell_type": "code",
   "execution_count": 1,
   "metadata": {},
   "outputs": [],
   "source": [
    "import numpy as np\n",
    "import pandas as pd\n",
    "import matplotlib.pyplot as plt"
   ]
  },
  {
   "cell_type": "code",
   "execution_count": 2,
   "metadata": {},
   "outputs": [],
   "source": [
    "plt.rcParams['font.sans-serif']=['SimHei']  ##设置字体为 黑体\n",
    "plt.rcParams['axes.unicode_minus']=False ##显示符号"
   ]
  },
  {
   "cell_type": "markdown",
   "metadata": {},
   "source": [
    "（1）读取酒店数据2.xlsx，根据评分和价格信息，绘制散点图。"
   ]
  },
  {
   "cell_type": "code",
   "execution_count": 10,
   "metadata": {},
   "outputs": [
    {
     "data": {
      "text/html": [
       "<div>\n",
       "<style scoped>\n",
       "    .dataframe tbody tr th:only-of-type {\n",
       "        vertical-align: middle;\n",
       "    }\n",
       "\n",
       "    .dataframe tbody tr th {\n",
       "        vertical-align: top;\n",
       "    }\n",
       "\n",
       "    .dataframe thead th {\n",
       "        text-align: right;\n",
       "    }\n",
       "</style>\n",
       "<table border=\"1\" class=\"dataframe\">\n",
       "  <thead>\n",
       "    <tr style=\"text-align: right;\">\n",
       "      <th></th>\n",
       "      <th>评分</th>\n",
       "      <th>价格</th>\n",
       "    </tr>\n",
       "  </thead>\n",
       "  <tbody>\n",
       "    <tr>\n",
       "      <th>0</th>\n",
       "      <td>4.500000</td>\n",
       "      <td>693</td>\n",
       "    </tr>\n",
       "    <tr>\n",
       "      <th>1</th>\n",
       "      <td>4.700000</td>\n",
       "      <td>747</td>\n",
       "    </tr>\n",
       "    <tr>\n",
       "      <th>2</th>\n",
       "      <td>4.400000</td>\n",
       "      <td>693</td>\n",
       "    </tr>\n",
       "    <tr>\n",
       "      <th>3</th>\n",
       "      <td>4.600000</td>\n",
       "      <td>581</td>\n",
       "    </tr>\n",
       "    <tr>\n",
       "      <th>4</th>\n",
       "      <td>4.500000</td>\n",
       "      <td>869</td>\n",
       "    </tr>\n",
       "    <tr>\n",
       "      <th>...</th>\n",
       "      <td>...</td>\n",
       "      <td>...</td>\n",
       "    </tr>\n",
       "    <tr>\n",
       "      <th>391</th>\n",
       "      <td>4.282973</td>\n",
       "      <td>245</td>\n",
       "    </tr>\n",
       "    <tr>\n",
       "      <th>392</th>\n",
       "      <td>3.200000</td>\n",
       "      <td>227</td>\n",
       "    </tr>\n",
       "    <tr>\n",
       "      <th>393</th>\n",
       "      <td>4.500000</td>\n",
       "      <td>709</td>\n",
       "    </tr>\n",
       "    <tr>\n",
       "      <th>394</th>\n",
       "      <td>4.500000</td>\n",
       "      <td>709</td>\n",
       "    </tr>\n",
       "    <tr>\n",
       "      <th>395</th>\n",
       "      <td>4.000000</td>\n",
       "      <td>256</td>\n",
       "    </tr>\n",
       "  </tbody>\n",
       "</table>\n",
       "<p>396 rows × 2 columns</p>\n",
       "</div>"
      ],
      "text/plain": [
       "           评分   价格\n",
       "0    4.500000  693\n",
       "1    4.700000  747\n",
       "2    4.400000  693\n",
       "3    4.600000  581\n",
       "4    4.500000  869\n",
       "..        ...  ...\n",
       "391  4.282973  245\n",
       "392  3.200000  227\n",
       "393  4.500000  709\n",
       "394  4.500000  709\n",
       "395  4.000000  256\n",
       "\n",
       "[396 rows x 2 columns]"
      ]
     },
     "execution_count": 10,
     "metadata": {},
     "output_type": "execute_result"
    }
   ],
   "source": [
    "df = pd.read_excel(\"酒店数据2.xlsx\")\n",
    "df.drop(\"Unnamed: 0\",axis=1,inplace=True)\n",
    "data = df[[\"评分\",\"价格\"]]\n",
    "data"
   ]
  },
  {
   "cell_type": "code",
   "execution_count": 11,
   "metadata": {},
   "outputs": [
    {
     "data": {
      "image/png": "[encoded data removed]",
      "text/plain": [
       "<Figure size 720x576 with 1 Axes>"
      ]
     },
     "metadata": {
      "needs_background": "light"
     },
     "output_type": "display_data"
    }
   ],
   "source": [
    "x=data[\"评分\"]\n",
    "y=data[\"价格\"]\n",
    "plt.figure(figsize=(10,8))\n",
    "plt.scatter(x,y)\n",
    "plt.show()"
   ]
  },
  {
   "cell_type": "markdown",
   "metadata": {},
   "source": [
    "（2）画出油尖旺地区，评分的箱线图。"
   ]
  },
  {
   "cell_type": "code",
   "execution_count": 12,
   "metadata": {},
   "outputs": [
    {
     "data": {
      "text/html": [
       "<div>\n",
       "<style scoped>\n",
       "    .dataframe tbody tr th:only-of-type {\n",
       "        vertical-align: middle;\n",
       "    }\n",
       "\n",
       "    .dataframe tbody tr th {\n",
       "        vertical-align: top;\n",
       "    }\n",
       "\n",
       "    .dataframe thead th {\n",
       "        text-align: right;\n",
       "    }\n",
       "</style>\n",
       "<table border=\"1\" class=\"dataframe\">\n",
       "  <thead>\n",
       "    <tr style=\"text-align: right;\">\n",
       "      <th></th>\n",
       "      <th>名字</th>\n",
       "      <th>类型</th>\n",
       "      <th>城市</th>\n",
       "      <th>地区</th>\n",
       "      <th>地点</th>\n",
       "      <th>评分</th>\n",
       "      <th>评分人数</th>\n",
       "      <th>价格</th>\n",
       "      <th>等级</th>\n",
       "    </tr>\n",
       "  </thead>\n",
       "  <tbody>\n",
       "    <tr>\n",
       "      <th>1</th>\n",
       "      <td>香港碧荟酒店(The BEACON)</td>\n",
       "      <td>商务出行</td>\n",
       "      <td>香港</td>\n",
       "      <td>油尖旺</td>\n",
       "      <td>九龙旺角洗衣街88号</td>\n",
       "      <td>4.700000</td>\n",
       "      <td>328</td>\n",
       "      <td>747</td>\n",
       "      <td>B</td>\n",
       "    </tr>\n",
       "    <tr>\n",
       "      <th>5</th>\n",
       "      <td>海景嘉福洲际酒店(InterContinental Grand Stanford Hong ...</td>\n",
       "      <td>海滨风光</td>\n",
       "      <td>香港</td>\n",
       "      <td>油尖旺</td>\n",
       "      <td>尖沙咀東部麽地道70号</td>\n",
       "      <td>4.700000</td>\n",
       "      <td>4366</td>\n",
       "      <td>1296</td>\n",
       "      <td>A</td>\n",
       "    </tr>\n",
       "    <tr>\n",
       "      <th>7</th>\n",
       "      <td>香港富豪九龙酒店(Regal Kowloon Hotel)</td>\n",
       "      <td>休闲度假</td>\n",
       "      <td>香港</td>\n",
       "      <td>油尖旺</td>\n",
       "      <td>尖沙嘴麽地道71号</td>\n",
       "      <td>4.500000</td>\n",
       "      <td>11265</td>\n",
       "      <td>692</td>\n",
       "      <td>B</td>\n",
       "    </tr>\n",
       "    <tr>\n",
       "      <th>9</th>\n",
       "      <td>香港广易商务宾馆(家庭旅馆)(WIDE EVER HOSTEL)</td>\n",
       "      <td>地铁周边</td>\n",
       "      <td>香港</td>\n",
       "      <td>油尖旺</td>\n",
       "      <td>九龙旺角弥敦道607号新兴大厦14楼16单位</td>\n",
       "      <td>4.100000</td>\n",
       "      <td>1029</td>\n",
       "      <td>218</td>\n",
       "      <td>C</td>\n",
       "    </tr>\n",
       "    <tr>\n",
       "      <th>11</th>\n",
       "      <td>香港都会海逸酒店(Harbour Plaza Metropolis)</td>\n",
       "      <td>海滨风光</td>\n",
       "      <td>香港</td>\n",
       "      <td>油尖旺</td>\n",
       "      <td>红磡 都会道7号</td>\n",
       "      <td>4.500000</td>\n",
       "      <td>14872</td>\n",
       "      <td>562</td>\n",
       "      <td>B</td>\n",
       "    </tr>\n",
       "    <tr>\n",
       "      <th>...</th>\n",
       "      <td>...</td>\n",
       "      <td>...</td>\n",
       "      <td>...</td>\n",
       "      <td>...</td>\n",
       "      <td>...</td>\n",
       "      <td>...</td>\n",
       "      <td>...</td>\n",
       "      <td>...</td>\n",
       "      <td>...</td>\n",
       "    </tr>\n",
       "    <tr>\n",
       "      <th>385</th>\n",
       "      <td>香港捷舒旅(Just Hotel)</td>\n",
       "      <td>地铁周边</td>\n",
       "      <td>香港</td>\n",
       "      <td>油尖旺</td>\n",
       "      <td>尖沙咀金巴利道27-33号永利大厦F座4楼</td>\n",
       "      <td>3.800000</td>\n",
       "      <td>183</td>\n",
       "      <td>888</td>\n",
       "      <td>B</td>\n",
       "    </tr>\n",
       "    <tr>\n",
       "      <th>386</th>\n",
       "      <td>香港圣地牙哥宾馆(家庭旅馆)(San Diego Guesthouse)</td>\n",
       "      <td>地铁周边</td>\n",
       "      <td>香港</td>\n",
       "      <td>油尖旺</td>\n",
       "      <td>亚皆老街83号先施大厦3字楼309室</td>\n",
       "      <td>4.282973</td>\n",
       "      <td>84</td>\n",
       "      <td>348</td>\n",
       "      <td>C</td>\n",
       "    </tr>\n",
       "    <tr>\n",
       "      <th>390</th>\n",
       "      <td>香港HotelVenus(Hotel Venus)</td>\n",
       "      <td>地铁周边</td>\n",
       "      <td>香港</td>\n",
       "      <td>油尖旺</td>\n",
       "      <td>尖沙咀弥敦道36-40号重庆大厦C座12楼C6室</td>\n",
       "      <td>4.282973</td>\n",
       "      <td>2</td>\n",
       "      <td>172</td>\n",
       "      <td>C</td>\n",
       "    </tr>\n",
       "    <tr>\n",
       "      <th>392</th>\n",
       "      <td>香港天天宾馆(TIN TIN GUEST HOUSE)</td>\n",
       "      <td>地铁周边</td>\n",
       "      <td>香港</td>\n",
       "      <td>油尖旺</td>\n",
       "      <td>旺角弥敦道607号新兴大厦1517A</td>\n",
       "      <td>3.200000</td>\n",
       "      <td>16</td>\n",
       "      <td>227</td>\n",
       "      <td>C</td>\n",
       "    </tr>\n",
       "    <tr>\n",
       "      <th>395</th>\n",
       "      <td>香港花盈酒店(家庭旅馆)(Bloomy Hotel)</td>\n",
       "      <td>地铁周边</td>\n",
       "      <td>香港</td>\n",
       "      <td>油尖旺</td>\n",
       "      <td>尖沙咀弥敦道87号华源大厦9字楼C2室</td>\n",
       "      <td>4.000000</td>\n",
       "      <td>273</td>\n",
       "      <td>256</td>\n",
       "      <td>C</td>\n",
       "    </tr>\n",
       "  </tbody>\n",
       "</table>\n",
       "<p>185 rows × 9 columns</p>\n",
       "</div>"
      ],
      "text/plain": [
       "                                                    名字    类型  城市   地区  \\\n",
       "1                                   香港碧荟酒店(The BEACON)  商务出行  香港  油尖旺   \n",
       "5    海景嘉福洲际酒店(InterContinental Grand Stanford Hong ...  海滨风光  香港  油尖旺   \n",
       "7                        香港富豪九龙酒店(Regal Kowloon Hotel)  休闲度假  香港  油尖旺   \n",
       "9                     香港广易商务宾馆(家庭旅馆)(WIDE EVER HOSTEL)  地铁周边  香港  油尖旺   \n",
       "11                  香港都会海逸酒店(Harbour Plaza Metropolis)  海滨风光  香港  油尖旺   \n",
       "..                                                 ...   ...  ..  ...   \n",
       "385                                  香港捷舒旅(Just Hotel)  地铁周边  香港  油尖旺   \n",
       "386               香港圣地牙哥宾馆(家庭旅馆)(San Diego Guesthouse)  地铁周边  香港  油尖旺   \n",
       "390                          香港HotelVenus(Hotel Venus)  地铁周边  香港  油尖旺   \n",
       "392                        香港天天宾馆(TIN TIN GUEST HOUSE)  地铁周边  香港  油尖旺   \n",
       "395                         香港花盈酒店(家庭旅馆)(Bloomy Hotel)  地铁周边  香港  油尖旺   \n",
       "\n",
       "                           地点        评分   评分人数    价格 等级  \n",
       "1                  九龙旺角洗衣街88号  4.700000    328   747  B  \n",
       "5                 尖沙咀東部麽地道70号  4.700000   4366  1296  A  \n",
       "7                   尖沙嘴麽地道71号  4.500000  11265   692  B  \n",
       "9      九龙旺角弥敦道607号新兴大厦14楼16单位  4.100000   1029   218  C  \n",
       "11                   红磡 都会道7号  4.500000  14872   562  B  \n",
       "..                        ...       ...    ...   ... ..  \n",
       "385     尖沙咀金巴利道27-33号永利大厦F座4楼  3.800000    183   888  B  \n",
       "386        亚皆老街83号先施大厦3字楼309室  4.282973     84   348  C  \n",
       "390  尖沙咀弥敦道36-40号重庆大厦C座12楼C6室  4.282973      2   172  C  \n",
       "392        旺角弥敦道607号新兴大厦1517A  3.200000     16   227  C  \n",
       "395       尖沙咀弥敦道87号华源大厦9字楼C2室  4.000000    273   256  C  \n",
       "\n",
       "[185 rows x 9 columns]"
      ]
     },
     "execution_count": 12,
     "metadata": {},
     "output_type": "execute_result"
    }
   ],
   "source": [
    "data2=df[df.地区 == \"油尖旺\"]\n",
    "data2"
   ]
  },
  {
   "cell_type": "code",
   "execution_count": 14,
   "metadata": {},
   "outputs": [
    {
     "data": {
      "image/png": "[encoded data removed]",
      "text/plain": [
       "<Figure size 720x432 with 1 Axes>"
      ]
     },
     "metadata": {
      "needs_background": "light"
     },
     "output_type": "display_data"
    }
   ],
   "source": [
    "plt.figure(figsize=(10,6))\n",
    "plt.boxplot(data2[\"评分\"])\n",
    "plt.show()"
   ]
  },
  {
   "cell_type": "markdown",
   "metadata": {},
   "source": [
    "（3）选出平均价格前5的地区，画出这些地区的评分的箱线图。"
   ]
  },
  {
   "cell_type": "code",
   "execution_count": 21,
   "metadata": {},
   "outputs": [
    {
     "data": {
      "text/plain": [
       "地区\n",
       "中西区    1978.121212\n",
       "离岛     1033.363636\n",
       "沙田      848.000000\n",
       "湾仔      829.243902\n",
       "东区      759.937500\n",
       "Name: 价格, dtype: float64"
      ]
     },
     "execution_count": 21,
     "metadata": {},
     "output_type": "execute_result"
    }
   ],
   "source": [
    "data3 = df[\"价格\"].groupby(df[\"地区\"]).mean().sort_values(ascending=False)[:5]\n",
    "data3"
   ]
  },
  {
   "cell_type": "code",
   "execution_count": 22,
   "metadata": {},
   "outputs": [
    {
     "data": {
      "image/png": "[encoded data removed]",
      "text/plain": [
       "<Figure size 864x576 with 1 Axes>"
      ]
     },
     "metadata": {
      "needs_background": "light"
     },
     "output_type": "display_data"
    }
   ],
   "source": [
    "df1 = df[df.地区 == data3.index[0]][\"评分\"]\n",
    "df2 = df[df.地区 == data3.index[1]][\"评分\"]\n",
    "df3 = df[df.地区 == data3.index[2]][\"评分\"]\n",
    "df4 = df[df.地区 == data3.index[3]][\"评分\"]\n",
    "df5 = df[df.地区 == data3.index[4]][\"评分\"]\n",
    "plt.figure(figsize=(12,8))\n",
    "plt.boxplot([df1,df2,df3,df4,df5],labels=[data3.index[0],data3.index[1],data3.index[2],data3.index[3],data3.index[4]])\n",
    "plt.show()"
   ]
  },
  {
   "cell_type": "markdown",
   "metadata": {},
   "source": [
    "（4）将题目2,3的图像旋转90度。"
   ]
  },
  {
   "cell_type": "code",
   "execution_count": 23,
   "metadata": {},
   "outputs": [
    {
     "data": {
      "image/png": "[encoded data removed]",
      "text/plain": [
       "<Figure size 864x576 with 1 Axes>"
      ]
     },
     "metadata": {
      "needs_background": "light"
     },
     "output_type": "display_data"
    }
   ],
   "source": [
    "plt.figure(figsize=(12,8))\n",
    "plt.boxplot([df1,df2,df3,df4,df5],labels=[data3.index[0],data3.index[1],data3.index[2],data3.index[3],data3.index[4]],vert=False)\n",
    "plt.show()"
   ]
  },
  {
   "cell_type": "markdown",
   "metadata": {},
   "source": [
    "（5）绘制一个评分，评分人数和价格之间的相关系数图"
   ]
  },
  {
   "cell_type": "code",
   "execution_count": 24,
   "metadata": {},
   "outputs": [
    {
     "data": {
      "text/html": [
       "<div>\n",
       "<style scoped>\n",
       "    .dataframe tbody tr th:only-of-type {\n",
       "        vertical-align: middle;\n",
       "    }\n",
       "\n",
       "    .dataframe tbody tr th {\n",
       "        vertical-align: top;\n",
       "    }\n",
       "\n",
       "    .dataframe thead th {\n",
       "        text-align: right;\n",
       "    }\n",
       "</style>\n",
       "<table border=\"1\" class=\"dataframe\">\n",
       "  <thead>\n",
       "    <tr style=\"text-align: right;\">\n",
       "      <th></th>\n",
       "      <th>评分</th>\n",
       "      <th>评分人数</th>\n",
       "      <th>价格</th>\n",
       "    </tr>\n",
       "  </thead>\n",
       "  <tbody>\n",
       "    <tr>\n",
       "      <th>0</th>\n",
       "      <td>4.500000</td>\n",
       "      <td>12708</td>\n",
       "      <td>693</td>\n",
       "    </tr>\n",
       "    <tr>\n",
       "      <th>1</th>\n",
       "      <td>4.700000</td>\n",
       "      <td>328</td>\n",
       "      <td>747</td>\n",
       "    </tr>\n",
       "    <tr>\n",
       "      <th>2</th>\n",
       "      <td>4.400000</td>\n",
       "      <td>5014</td>\n",
       "      <td>693</td>\n",
       "    </tr>\n",
       "    <tr>\n",
       "      <th>3</th>\n",
       "      <td>4.600000</td>\n",
       "      <td>3427</td>\n",
       "      <td>581</td>\n",
       "    </tr>\n",
       "    <tr>\n",
       "      <th>4</th>\n",
       "      <td>4.500000</td>\n",
       "      <td>1938</td>\n",
       "      <td>869</td>\n",
       "    </tr>\n",
       "    <tr>\n",
       "      <th>...</th>\n",
       "      <td>...</td>\n",
       "      <td>...</td>\n",
       "      <td>...</td>\n",
       "    </tr>\n",
       "    <tr>\n",
       "      <th>391</th>\n",
       "      <td>4.282973</td>\n",
       "      <td>16</td>\n",
       "      <td>245</td>\n",
       "    </tr>\n",
       "    <tr>\n",
       "      <th>392</th>\n",
       "      <td>3.200000</td>\n",
       "      <td>16</td>\n",
       "      <td>227</td>\n",
       "    </tr>\n",
       "    <tr>\n",
       "      <th>393</th>\n",
       "      <td>4.500000</td>\n",
       "      <td>45462</td>\n",
       "      <td>709</td>\n",
       "    </tr>\n",
       "    <tr>\n",
       "      <th>394</th>\n",
       "      <td>4.500000</td>\n",
       "      <td>45463</td>\n",
       "      <td>709</td>\n",
       "    </tr>\n",
       "    <tr>\n",
       "      <th>395</th>\n",
       "      <td>4.000000</td>\n",
       "      <td>273</td>\n",
       "      <td>256</td>\n",
       "    </tr>\n",
       "  </tbody>\n",
       "</table>\n",
       "<p>396 rows × 3 columns</p>\n",
       "</div>"
      ],
      "text/plain": [
       "           评分   评分人数   价格\n",
       "0    4.500000  12708  693\n",
       "1    4.700000    328  747\n",
       "2    4.400000   5014  693\n",
       "3    4.600000   3427  581\n",
       "4    4.500000   1938  869\n",
       "..        ...    ...  ...\n",
       "391  4.282973     16  245\n",
       "392  3.200000     16  227\n",
       "393  4.500000  45462  709\n",
       "394  4.500000  45463  709\n",
       "395  4.000000    273  256\n",
       "\n",
       "[396 rows x 3 columns]"
      ]
     },
     "execution_count": 24,
     "metadata": {},
     "output_type": "execute_result"
    }
   ],
   "source": [
    "data4 = df[[\"评分\",\"评分人数\",\"价格\"]]\n",
    "data4"
   ]
  },
  {
   "cell_type": "code",
   "execution_count": 26,
   "metadata": {},
   "outputs": [
    {
     "name": "stdout",
     "output_type": "stream",
     "text": [
      "Populating the interactive namespace from numpy and matplotlib\n"
     ]
    },
    {
     "data": {
      "image/png": "[encoded data removed]",
      "text/plain": [
       "<Figure size 720x720 with 9 Axes>"
      ]
     },
     "metadata": {
      "needs_background": "light"
     },
     "output_type": "display_data"
    }
   ],
   "source": [
    "%pylab inline\n",
    "result=pd.plotting.scatter_matrix(data4,diagonal='kde',   ##kde对角线上使用和密度估计，hist直方图\n",
    "                         color='k',alpha=0.3,figsize=(10,10))  "
   ]
  },
  {
   "cell_type": "markdown",
   "metadata": {},
   "source": [
    "（6）对这两次课画的酒店数据图做一个汇总分析。"
   ]
  },
  {
   "cell_type": "markdown",
   "metadata": {},
   "source": [
    "（7）撰写一个简单的酒店数据分析报告。（选做）"
   ]
  }
 ],
 "metadata": {
  "kernelspec": {
   "display_name": "Python 3 (ipykernel)",
   "language": "python",
   "name": "python3"
  },
  "language_info": {
   "codemirror_mode": {
    "name": "ipython",
    "version": 3
   },
   "file_extension": ".py",
   "mimetype": "text/x-python",
   "name": "python",
   "nbconvert_exporter": "python",
   "pygments_lexer": "ipython3",
   "version": "3.9.7"
  }
 },
 "nbformat": 4,
 "nbformat_minor": 2
}
